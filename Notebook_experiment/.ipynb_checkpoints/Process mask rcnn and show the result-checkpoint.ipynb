{
 "cells": [
  {
   "cell_type": "markdown",
   "metadata": {},
   "source": [
    "# Show some result of Mask R-CNN"
   ]
  },
  {
   "cell_type": "code",
   "execution_count": 13,
   "metadata": {},
   "outputs": [],
   "source": [
    "import configparser\n",
    "import csv\n",
    "import os\n",
    "import os.path as ops\n",
    "import pickle\n",
    "\n",
    "from PIL import Image\n",
    "import numpy as np\n",
    "import scipy\n",
    "import torch\n",
    "\n",
    "import matplotlib.pyplot as plt\n",
    "import argparse\n",
    "import glob\n",
    "import json\n",
    "import cv2\n",
    "import sys"
   ]
  },
  {
   "cell_type": "code",
   "execution_count": 16,
   "metadata": {},
   "outputs": [],
   "source": [
    "outimg_dir = '../../COSMOS_data_tracktor/Track_data_cosmos/v_and_p/traffic_video_GOPR0589_190720_1324_1454_90sec_calibrated/img1'\n",
    "ann_txt_path = '../../COSMOS_data_tracktor/mask_detect_result/traffic_video_GOPR0589_190720_1324_1454_90sec_calibrated.mp4.txt'"
   ]
  },
  {
   "cell_type": "code",
   "execution_count": 17,
   "metadata": {},
   "outputs": [],
   "source": [
    "img_names = []\n",
    "for img_name in os.listdir(outimg_dir):\n",
    "    img_names.append(img_name)\n",
    "img_names.sort()\n",
    "\n",
    "anns = {'{}'.format(i):[] for i in range(1, len(img_names)+1)}\n",
    "\n",
    "with open(ann_txt_path,'r') as file:\n",
    "    data = file.readlines()\n",
    "    for l in data:\n",
    "        line = l.split(',')\n",
    "        # anns[line[0]].append(line[1:6])\n",
    "        anns[line[0]].append(line[1:7])"
   ]
  },
  {
   "cell_type": "code",
   "execution_count": 18,
   "metadata": {},
   "outputs": [
    {
     "name": "stderr",
     "output_type": "stream",
     "text": [
      "100%|██████████| 900/900 [00:43<00:00, 20.89it/s]\n"
     ]
    }
   ],
   "source": [
    "from tqdm import tqdm\n",
    "output_dir  = '../../COSMOS_data_tracktor/mask_detect_result'\n",
    "os.makedirs(output_dir, exist_ok=True)\n",
    "fps = 10\n",
    "fourcc = cv2.VideoWriter_fourcc(*'XVID')\n",
    "videoWriter = cv2.VideoWriter(ops.join(output_dir, ops.split(ops.split(outimg_dir)[0])[1]+'.mp4'), fourcc, fps, (1920,1080))\n",
    "for i in tqdm(range(len(img_names))):\n",
    "    img = cv2.imread(ops.join(outimg_dir, img_names[i]))\n",
    "    for box in anns[str(i+1)]:\n",
    "        if box[-1].split()[0] == '2':\n",
    "            img = cv2.rectangle(img, (int(box[1]),int(box[2])), (int(box[1])+int(box[3]),int(box[2])+int(box[4])), (0,0,255), 2)\n",
    "        else:\n",
    "            img = cv2.rectangle(img, (int(box[1]),int(box[2])), (int(box[1])+int(box[3]),int(box[2])+int(box[4])), (0,255,0), 2)\n",
    "        \n",
    "        # img = cv2.putText(img, box[0], (int(box[1]),int(box[2])), cv2.FONT_HERSHEY_SIMPLEX , 0.6, (255, 0, 0) , 2, cv2.LINE_AA) \n",
    "    videoWriter.write(img)\n",
    "videoWriter.release()"
   ]
  },
  {
   "cell_type": "code",
   "execution_count": null,
   "metadata": {},
   "outputs": [],
   "source": []
  }
 ],
 "metadata": {
  "kernelspec": {
   "display_name": "Python 3",
   "language": "python",
   "name": "python3"
  },
  "language_info": {
   "codemirror_mode": {
    "name": "ipython",
    "version": 3
   },
   "file_extension": ".py",
   "mimetype": "text/x-python",
   "name": "python",
   "nbconvert_exporter": "python",
   "pygments_lexer": "ipython3",
   "version": "3.6.10"
  }
 },
 "nbformat": 4,
 "nbformat_minor": 2
}
