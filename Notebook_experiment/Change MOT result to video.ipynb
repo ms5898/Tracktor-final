{
 "cells": [
  {
   "cell_type": "code",
   "execution_count": 5,
   "metadata": {},
   "outputs": [],
   "source": [
    "import configparser\n",
    "import csv\n",
    "import os\n",
    "import os.path as ops\n",
    "import pickle\n",
    "\n",
    "from PIL import Image\n",
    "import numpy as np\n",
    "import scipy\n",
    "import torch\n",
    "\n",
    "import matplotlib.pyplot as plt\n",
    "import argparse\n",
    "import glob\n",
    "import json\n",
    "import cv2\n",
    "\n",
    "import sys\n",
    "sys.path.append(\"..\")\n",
    "from dataset.cosmos_dataset import preprocessvideo"
   ]
  },
  {
   "cell_type": "code",
   "execution_count": 6,
   "metadata": {},
   "outputs": [],
   "source": [
    "outimg_dir = '../../COSMOS_data_tracktor/Track_data_cosmos/v_and_p/traffic_video_GP010615_190724_0545_0715_90sec_calibrated/img1'\n",
    "ann_txt_path_v = '../output/tracktor/COSMOS/Tracktor++/traffic_video_GP010615_190724_0545_0715_90sec_calibrated_v.txt'\n",
    "ann_txt_path_p = '../output/tracktor/COSMOS/Tracktor++/traffic_video_GP010615_190724_0545_0715_90sec_calibrated_p.txt'"
   ]
  },
  {
   "cell_type": "code",
   "execution_count": 7,
   "metadata": {},
   "outputs": [],
   "source": [
    "img_names = []\n",
    "for img_name in os.listdir(outimg_dir):\n",
    "    img_names.append(img_name)\n",
    "img_names.sort()\n",
    "\n",
    "anns_v = {'{}'.format(i):[] for i in range(1, len(img_names)+1)}\n",
    "anns_p = {'{}'.format(i):[] for i in range(1, len(img_names)+1)}\n",
    "\n",
    "with open(ann_txt_path_v,'r') as file:\n",
    "    data = file.readlines()\n",
    "    for l in data:\n",
    "        line = l.split(',')\n",
    "        line[2] = str(int(float(line[2])))\n",
    "        line[3] = str(int(float(line[3])))\n",
    "        line[4] = str(int(float(line[4])))\n",
    "        line[5] = str(int(float(line[5])))\n",
    "        anns_v[line[0]].append(line[1:6])\n",
    "\n",
    "with open(ann_txt_path_p,'r') as file:\n",
    "    data = file.readlines()\n",
    "    for l in data:\n",
    "        line = l.split(',')\n",
    "        line[2] = str(int(float(line[2])))\n",
    "        line[3] = str(int(float(line[3])))\n",
    "        line[4] = str(int(float(line[4])))\n",
    "        line[5] = str(int(float(line[5])))\n",
    "        anns_p[line[0]].append(line[1:6])"
   ]
  },
  {
   "cell_type": "code",
   "execution_count": 8,
   "metadata": {},
   "outputs": [
    {
     "name": "stderr",
     "output_type": "stream",
     "text": [
      "100%|██████████| 899/899 [00:44<00:00, 20.13it/s]\n"
     ]
    }
   ],
   "source": [
    "from tqdm import tqdm\n",
    "output_dir  = '../../COSMOS_data_tracktor/Tracktor_video'\n",
    "os.makedirs(output_dir, exist_ok=True)\n",
    "fps = 10\n",
    "fourcc = cv2.VideoWriter_fourcc(*'XVID')\n",
    "videoWriter = cv2.VideoWriter(ops.join(output_dir, ops.split(ops.split(outimg_dir)[0])[1]+'.mp4'), fourcc, fps, (1920,1080))\n",
    "for i in tqdm(range(len(img_names))):\n",
    "    img = cv2.imread(ops.join(outimg_dir, img_names[i]))\n",
    "    for box in anns_v[str(i+1)]:\n",
    "        img = cv2.rectangle(img, (int(box[1]),int(box[2])), (int(box[1])+int(box[3]),int(box[2])+int(box[4])), (0,255,0), 2)\n",
    "        img = cv2.putText(img, 'v:'+box[0], (int(box[1]),int(box[2])), cv2.FONT_HERSHEY_SIMPLEX , 0.6, (0, 255, 0) , 2, cv2.LINE_AA) \n",
    "    for box in anns_p[str(i+1)]:\n",
    "        img = cv2.rectangle(img, (int(box[1]),int(box[2])), (int(box[1])+int(box[3]),int(box[2])+int(box[4])), (255,0,0), 2)\n",
    "        img = cv2.putText(img, 'p:'+box[0], (int(box[1]),int(box[2])), cv2.FONT_HERSHEY_SIMPLEX , 0.6, (255, 0, 0) , 2, cv2.LINE_AA)     \n",
    "    videoWriter.write(img)\n",
    "videoWriter.release()"
   ]
  },
  {
   "cell_type": "code",
   "execution_count": null,
   "metadata": {},
   "outputs": [],
   "source": []
  }
 ],
 "metadata": {
  "kernelspec": {
   "display_name": "Python 3",
   "language": "python",
   "name": "python3"
  },
  "language_info": {
   "codemirror_mode": {
    "name": "ipython",
    "version": 3
   },
   "file_extension": ".py",
   "mimetype": "text/x-python",
   "name": "python",
   "nbconvert_exporter": "python",
   "pygments_lexer": "ipython3",
   "version": "3.6.10"
  }
 },
 "nbformat": 4,
 "nbformat_minor": 2
}
