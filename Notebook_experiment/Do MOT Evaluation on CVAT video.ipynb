{
 "cells": [
  {
   "cell_type": "code",
   "execution_count": 1,
   "metadata": {},
   "outputs": [],
   "source": [
    "import os\n",
    "import os.path as osp\n",
    "\n",
    "from PIL import Image\n",
    "import numpy as np\n",
    "import torch\n",
    "\n",
    "from torchvision.transforms import ToTensor\n",
    "from torch.utils.data import DataLoader\n",
    "\n",
    "import motmetrics as mm\n",
    "mm.lap.default_solver = 'lap'\n",
    "\n",
    "import torchvision\n",
    "import yaml\n",
    "from tqdm import tqdm\n",
    "import sacred\n",
    "from sacred import Experiment\n",
    "import motmetrics as mm\n",
    "import sys\n",
    "sys.path.append(\"..\")\n",
    "from src.tracktor.utils import interpolate, plot_sequence, get_mot_accum, evaluate_mot_accums\n",
    "from dataset.eval_track import COSMOSTestDataset, get_mot_accum_new, get_mot_accum_new_2"
   ]
  },
  {
   "cell_type": "markdown",
   "metadata": {},
   "source": [
    "# Evaluation for Vehicle\n",
    "### Read Ground Truth Dataset"
   ]
  },
  {
   "cell_type": "code",
   "execution_count": 2,
   "metadata": {},
   "outputs": [],
   "source": [
    "dataset = []\n",
    "dataset_path = '../../COSMOS_data_tracktor/Track_data_cosmos/only_v'\n",
    "for video_root in os.listdir(dataset_path):\n",
    "    if 'sec' in video_root:\n",
    "        # print(osp.join(tracktor['dataset2'], video_root))\n",
    "        dataset.append(COSMOSTestDataset(osp.join(dataset_path, video_root)))"
   ]
  },
  {
   "cell_type": "code",
   "execution_count": 3,
   "metadata": {},
   "outputs": [
    {
     "name": "stdout",
     "output_type": "stream",
     "text": [
      "traffic_video_GP020614_190720_0237_0407_90sec_calibrated\n",
      "traffic_video_GP020587_190720_0900_1030_90sec_calibrated\n",
      "traffic_video_GP010615_190724_0545_0715_90sec_calibrated\n",
      "traffic_video_HIKL1D190911T153514_20190920_0700_0830_90sec_calibration\n",
      "traffic_video_HIKL1D190821T200329_190916_1715_1845_90sec_calied\n",
      "traffic_video_GP010589_190720_0310_0440_90sec_calibrated\n",
      "traffic_video_GOPR0589_190720_1324_1454_90sec_calibrated\n",
      "traffic_video_HIKL1D190821T200329_190919_2350_2520_90sec_calied\n",
      "traffic_video_HIKL1D190821T000900_190920_0152_0322_90sec_calied\n"
     ]
    }
   ],
   "source": [
    "for seq in dataset:\n",
    "    print(str(seq))"
   ]
  },
  {
   "cell_type": "markdown",
   "metadata": {},
   "source": [
    "### Change result .txt file to dirct"
   ]
  },
  {
   "cell_type": "code",
   "execution_count": 4,
   "metadata": {},
   "outputs": [],
   "source": [
    "results_path = '../output/tracktor/COSMOS/Tracktor++'\n",
    "results_files = []\n",
    "for seq in dataset:\n",
    "    results_files.append(osp.join(results_path, str(seq)+'_v.txt'))"
   ]
  },
  {
   "cell_type": "code",
   "execution_count": 5,
   "metadata": {},
   "outputs": [
    {
     "data": {
      "text/plain": [
       "['../output/tracktor/COSMOS/Tracktor++/traffic_video_GP020614_190720_0237_0407_90sec_calibrated_v.txt',\n",
       " '../output/tracktor/COSMOS/Tracktor++/traffic_video_GP020587_190720_0900_1030_90sec_calibrated_v.txt',\n",
       " '../output/tracktor/COSMOS/Tracktor++/traffic_video_GP010615_190724_0545_0715_90sec_calibrated_v.txt',\n",
       " '../output/tracktor/COSMOS/Tracktor++/traffic_video_HIKL1D190911T153514_20190920_0700_0830_90sec_calibration_v.txt',\n",
       " '../output/tracktor/COSMOS/Tracktor++/traffic_video_HIKL1D190821T200329_190916_1715_1845_90sec_calied_v.txt',\n",
       " '../output/tracktor/COSMOS/Tracktor++/traffic_video_GP010589_190720_0310_0440_90sec_calibrated_v.txt',\n",
       " '../output/tracktor/COSMOS/Tracktor++/traffic_video_GOPR0589_190720_1324_1454_90sec_calibrated_v.txt',\n",
       " '../output/tracktor/COSMOS/Tracktor++/traffic_video_HIKL1D190821T200329_190919_2350_2520_90sec_calied_v.txt',\n",
       " '../output/tracktor/COSMOS/Tracktor++/traffic_video_HIKL1D190821T000900_190920_0152_0322_90sec_calied_v.txt']"
      ]
     },
     "execution_count": 5,
     "metadata": {},
     "output_type": "execute_result"
    }
   ],
   "source": [
    "results_files"
   ]
  },
  {
   "cell_type": "code",
   "execution_count": 6,
   "metadata": {},
   "outputs": [],
   "source": [
    "all_result = {}\n",
    "for i, seq in enumerate(dataset):\n",
    "    results = {}\n",
    "    results_file = results_files[i]\n",
    "    with open(results_file,'r') as file:\n",
    "        data = file.readlines()\n",
    "        for line in data:\n",
    "            l = line.split(',')\n",
    "            obj_id = int(l[1]) - 1\n",
    "            frame = int(l[0]) - 1\n",
    "            if obj_id not in results:\n",
    "                results[obj_id] = {}\n",
    "            results[obj_id][frame] = np.array([float(l[2]), float(l[3]), \n",
    "                                          float(l[2]) + float(l[4]),\n",
    "                                          float(l[3]) + float(l[5])])\n",
    "    all_result[str(seq)] = results "
   ]
  },
  {
   "cell_type": "markdown",
   "metadata": {},
   "source": [
    "### Calculate MOT Metrics"
   ]
  },
  {
   "cell_type": "code",
   "execution_count": 7,
   "metadata": {},
   "outputs": [
    {
     "name": "stdout",
     "output_type": "stream",
     "text": [
      "                                                          IDF1   IDP   IDR  Rcll  Prcn GT MT PT ML  FP FN IDs  FM  MOTA  MOTP\n",
      "traffic_video_GP020614_190720_0237_0407_90sec_calibrated 98.3% 97.0% 99.6% 99.6% 97.0% 34 34  0  0 297 35   1   1 96.5% 0.230\n",
      "                                                          IDF1   IDP   IDR  Rcll  Prcn GT MT PT ML   FP   FN IDs   FM  MOTA  MOTP\n",
      "traffic_video_GP020587_190720_0900_1030_90sec_calibrated 85.2% 82.9% 87.6% 89.1% 84.3% 66 61  2  3 5103 3347  57  346 72.4% 0.218\n",
      "                                                          IDF1   IDP   IDR  Rcll  Prcn GT MT PT ML   FP  FN IDs  FM  MOTA  MOTP\n",
      "traffic_video_GP010615_190724_0545_0715_90sec_calibrated 93.0% 88.6% 97.8% 99.3% 89.9% 60 59  0  1 2078 136   1  14 88.2% 0.189\n",
      "                                                                        IDF1   IDP   IDR  Rcll  Prcn GT MT PT ML   FP  FN IDs  FM  MOTA  MOTP\n",
      "traffic_video_HIKL1D190911T153514_20190920_0700_0830_90sec_calibration 90.4% 86.1% 95.1% 95.7% 86.6% 40 38  2  0 1492 430   1   6 80.9% 0.164\n",
      "                                                                 IDF1   IDP   IDR  Rcll  Prcn GT MT PT ML   FP FN IDs  FM  MOTA  MOTP\n",
      "traffic_video_HIKL1D190821T200329_190916_1715_1845_90sec_calied 92.2% 85.9% 99.5% 99.5% 85.9% 24 24  0  0 1125 34   0  11 83.2% 0.253\n",
      "                                                          IDF1   IDP   IDR  Rcll  Prcn GT MT PT ML   FP   FN IDs   FM  MOTA  MOTP\n",
      "traffic_video_GP010589_190720_0310_0440_90sec_calibrated 66.8% 69.4% 64.3% 68.3% 73.7% 62 48  5  9 6979 9099  91  397 43.6% 0.309\n",
      "                                                          IDF1   IDP   IDR  Rcll  Prcn GT MT PT ML   FP   FN IDs   FM  MOTA  MOTP\n",
      "traffic_video_GOPR0589_190720_1324_1454_90sec_calibrated 76.7% 80.2% 73.4% 75.8% 82.8% 60 51  3  6 4449 6849  22  344 60.0% 0.249\n",
      "                                                                 IDF1   IDP   IDR  Rcll  Prcn GT MT PT ML   FP  FN IDs   FM  MOTA  MOTP\n",
      "traffic_video_HIKL1D190821T200329_190919_2350_2520_90sec_calied 85.6% 79.1% 93.2% 93.2% 79.2% 27 26  1  0 1869 520   1  152 68.6% 0.279\n",
      "                                                                 IDF1   IDP   IDR  Rcll  Prcn GT MT PT ML  FP FN IDs  FM  MOTA  MOTP\n",
      "traffic_video_HIKL1D190821T000900_190920_0152_0322_90sec_calied 95.1% 90.9% 99.7% 99.7% 90.9% 21 21  0  0 750 25   0   7 89.7% 0.188\n"
     ]
    }
   ],
   "source": [
    "final_MOT = []\n",
    "for seq in dataset:\n",
    "    mot_accums = []\n",
    "    results = all_result[str(seq)]\n",
    "    mot_accum = get_mot_accum_new(results, seq)\n",
    "    mot_accums.append(mot_accum)\n",
    "    \n",
    "    res = evaluate_mot_accums(mot_accums, [str(seq)])\n",
    "    final_MOT.append(res)"
   ]
  },
  {
   "cell_type": "markdown",
   "metadata": {},
   "source": [
    "# Evaluation for pedestrian\n",
    "### Read Ground Truth Dataset"
   ]
  },
  {
   "cell_type": "code",
   "execution_count": 8,
   "metadata": {},
   "outputs": [],
   "source": [
    "dataset = []\n",
    "dataset_path = '../../COSMOS_data_tracktor/Track_data_cosmos/only_p'\n",
    "for video_root in os.listdir(dataset_path):\n",
    "    if 'sec' in video_root:\n",
    "        # print(osp.join(tracktor['dataset2'], video_root))\n",
    "        dataset.append(COSMOSTestDataset(osp.join(dataset_path, video_root)))"
   ]
  },
  {
   "cell_type": "code",
   "execution_count": 9,
   "metadata": {},
   "outputs": [
    {
     "name": "stdout",
     "output_type": "stream",
     "text": [
      "traffic_video_GP020614_190720_0237_0407_90sec_calibrated\n",
      "traffic_video_GP020587_190720_0900_1030_90sec_calibrated\n",
      "traffic_video_GP010615_190724_0545_0715_90sec_calibrated\n",
      "traffic_video_HIKL1D190911T153514_20190920_0700_0830_90sec_calibration\n",
      "traffic_video_HIKL1D190821T200329_190916_1715_1845_90sec_calied\n",
      "traffic_video_GP010589_190720_0310_0440_90sec_calibrated\n",
      "traffic_video_GOPR0589_190720_1324_1454_90sec_calibrated\n",
      "traffic_video_HIKL1D190821T200329_190919_2350_2520_90sec_calied\n",
      "traffic_video_HIKL1D190821T000900_190920_0152_0322_90sec_calied\n"
     ]
    }
   ],
   "source": [
    "for seq in dataset:\n",
    "    print(str(seq))"
   ]
  },
  {
   "cell_type": "code",
   "execution_count": 10,
   "metadata": {},
   "outputs": [],
   "source": [
    "results_path = '../output/tracktor/COSMOS/Tracktor++'\n",
    "results_files = []\n",
    "for seq in dataset:\n",
    "    results_files.append(osp.join(results_path, str(seq)+'_p.txt'))"
   ]
  },
  {
   "cell_type": "code",
   "execution_count": 11,
   "metadata": {},
   "outputs": [
    {
     "data": {
      "text/plain": [
       "['../output/tracktor/COSMOS/Tracktor++/traffic_video_GP020614_190720_0237_0407_90sec_calibrated_p.txt',\n",
       " '../output/tracktor/COSMOS/Tracktor++/traffic_video_GP020587_190720_0900_1030_90sec_calibrated_p.txt',\n",
       " '../output/tracktor/COSMOS/Tracktor++/traffic_video_GP010615_190724_0545_0715_90sec_calibrated_p.txt',\n",
       " '../output/tracktor/COSMOS/Tracktor++/traffic_video_HIKL1D190911T153514_20190920_0700_0830_90sec_calibration_p.txt',\n",
       " '../output/tracktor/COSMOS/Tracktor++/traffic_video_HIKL1D190821T200329_190916_1715_1845_90sec_calied_p.txt',\n",
       " '../output/tracktor/COSMOS/Tracktor++/traffic_video_GP010589_190720_0310_0440_90sec_calibrated_p.txt',\n",
       " '../output/tracktor/COSMOS/Tracktor++/traffic_video_GOPR0589_190720_1324_1454_90sec_calibrated_p.txt',\n",
       " '../output/tracktor/COSMOS/Tracktor++/traffic_video_HIKL1D190821T200329_190919_2350_2520_90sec_calied_p.txt',\n",
       " '../output/tracktor/COSMOS/Tracktor++/traffic_video_HIKL1D190821T000900_190920_0152_0322_90sec_calied_p.txt']"
      ]
     },
     "execution_count": 11,
     "metadata": {},
     "output_type": "execute_result"
    }
   ],
   "source": [
    "results_files"
   ]
  },
  {
   "cell_type": "code",
   "execution_count": 12,
   "metadata": {},
   "outputs": [],
   "source": [
    "all_result = {}\n",
    "for i, seq in enumerate(dataset):\n",
    "    results = {}\n",
    "    results_file = results_files[i]\n",
    "    with open(results_file,'r') as file:\n",
    "        data = file.readlines()\n",
    "        for line in data:\n",
    "            l = line.split(',')\n",
    "            obj_id = int(l[1]) - 1\n",
    "            frame = int(l[0]) - 1\n",
    "            if obj_id not in results:\n",
    "                results[obj_id] = {}\n",
    "            results[obj_id][frame] = np.array([float(l[2]), float(l[3]), \n",
    "                                          float(l[2]) + float(l[4]),\n",
    "                                          float(l[3]) + float(l[5])])\n",
    "    all_result[str(seq)] = results "
   ]
  },
  {
   "cell_type": "code",
   "execution_count": 13,
   "metadata": {},
   "outputs": [
    {
     "name": "stdout",
     "output_type": "stream",
     "text": [
      "                                                          IDF1   IDP   IDR  Rcll  Prcn GT MT PT ML   FP   FN IDs   FM  MOTA  MOTP\n",
      "traffic_video_GP020614_190720_0237_0407_90sec_calibrated 66.1% 65.4% 66.9% 73.5% 71.8% 38 22 14  2 1890 1736  49  262 43.9% 0.360\n",
      "                                                          IDF1   IDP   IDR  Rcll  Prcn GT MT PT ML   FP   FN IDs   FM  MOTA  MOTP\n",
      "traffic_video_GP020587_190720_0900_1030_90sec_calibrated 55.8% 57.4% 54.3% 66.3% 70.2% 38 13 22  3 2969 3549  49  527 37.7% 0.388\n",
      "                                                          IDF1   IDP   IDR  Rcll  Prcn GT MT PT ML   FP   FN IDs   FM  MOTA  MOTP\n",
      "traffic_video_GP010615_190724_0545_0715_90sec_calibrated 63.0% 64.4% 61.6% 74.9% 78.3% 84 44 31  9 3605 4380 190  716 53.1% 0.325\n",
      "                                                                        IDF1   IDP   IDR  Rcll  Prcn GT MT PT ML   FP   FN IDs   FM   MOTA  MOTP\n",
      "traffic_video_HIKL1D190911T153514_20190920_0700_0830_90sec_calibration 42.3% 37.4% 48.5% 58.6% 45.2% 38 10 19  9 7033 4103 109  368 -13.4% 0.359\n",
      "                                                                 IDF1   IDP   IDR  Rcll  Prcn GT MT PT ML   FP   FN IDs   FM  MOTA  MOTP\n",
      "traffic_video_HIKL1D190821T200329_190916_1715_1845_90sec_calied 41.2% 41.3% 41.0% 59.9% 60.3% 33  9 21  3 2607 2647 182  451 17.7% 0.330\n",
      "                                                          IDF1   IDP   IDR  Rcll  Prcn GT MT PT ML    FP    FN IDs   FM   MOTA  MOTP\n",
      "traffic_video_GP010589_190720_0310_0440_90sec_calibrated 22.1% 21.4% 22.9% 28.7% 26.8% 56  1 37 18 11059 10050  80  633 -50.2% 0.407\n",
      "                                                          IDF1   IDP   IDR  Rcll  Prcn GT MT PT ML   FP   FN IDs   FM MOTA  MOTP\n",
      "traffic_video_GOPR0589_190720_1324_1454_90sec_calibrated 40.6% 39.0% 42.3% 57.6% 53.1% 50 18 26  6 6016 5020 119  625 5.8% 0.373\n",
      "                                                                 IDF1   IDP   IDR  Rcll  Prcn GT MT PT ML   FP   FN IDs   FM   MOTA  MOTP\n",
      "traffic_video_HIKL1D190821T200329_190919_2350_2520_90sec_calied 33.4% 28.8% 39.7% 45.9% 33.3% 26  3  9 14 2521 1481  19  135 -46.9% 0.382\n",
      "                                                                 IDF1   IDP   IDR  Rcll  Prcn GT MT PT ML   FP   FN IDs  FM MOTA  MOTP\n",
      "traffic_video_HIKL1D190821T000900_190920_0152_0322_90sec_calied 39.3% 41.8% 37.1% 48.0% 54.1%  9  1  6  2 1179 1505  29  67 6.3% 0.307\n"
     ]
    }
   ],
   "source": [
    "final_MOT = []\n",
    "for seq in dataset:\n",
    "    mot_accums = []\n",
    "    results = all_result[str(seq)]\n",
    "    mot_accum = get_mot_accum_new_2(results, seq)\n",
    "    mot_accums.append(mot_accum)\n",
    "    \n",
    "    res = evaluate_mot_accums(mot_accums, [str(seq)])\n",
    "    final_MOT.append(res)"
   ]
  },
  {
   "cell_type": "code",
   "execution_count": null,
   "metadata": {},
   "outputs": [],
   "source": []
  },
  {
   "cell_type": "code",
   "execution_count": null,
   "metadata": {},
   "outputs": [],
   "source": []
  }
 ],
 "metadata": {
  "kernelspec": {
   "display_name": "Python 3",
   "language": "python",
   "name": "python3"
  },
  "language_info": {
   "codemirror_mode": {
    "name": "ipython",
    "version": 3
   },
   "file_extension": ".py",
   "mimetype": "text/x-python",
   "name": "python",
   "nbconvert_exporter": "python",
   "pygments_lexer": "ipython3",
   "version": "3.6.10"
  }
 },
 "nbformat": 4,
 "nbformat_minor": 2
}
