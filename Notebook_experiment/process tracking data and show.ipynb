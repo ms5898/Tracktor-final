{
 "cells": [
  {
   "cell_type": "code",
   "execution_count": 1,
   "metadata": {},
   "outputs": [],
   "source": [
    "import configparser\n",
    "import csv\n",
    "import os\n",
    "import os.path as ops\n",
    "import pickle\n",
    "\n",
    "from PIL import Image\n",
    "import numpy as np\n",
    "import scipy\n",
    "import torch\n",
    "\n",
    "import matplotlib.pyplot as plt\n",
    "import argparse\n",
    "import glob\n",
    "import json\n",
    "import cv2\n",
    "\n",
    "import sys\n",
    "sys.path.append(\"..\")\n",
    "from dataset.cosmos_dataset import preprocessvideo, preprocessvideo_2, preprocessvideo_3, preprocessvideo_4, preprocessvideo_5"
   ]
  },
  {
   "cell_type": "markdown",
   "metadata": {},
   "source": [
    "# Change the video in CVAT to MOT standard"
   ]
  },
  {
   "cell_type": "markdown",
   "metadata": {},
   "source": [
    "**traffic_video_GP020614_190720_0237_0407_90sec**"
   ]
  },
  {
   "cell_type": "code",
   "execution_count": 2,
   "metadata": {},
   "outputs": [],
   "source": [
    "outimg_dir = outtxt_dir = frame_count = all_frames = None\n",
    "video_name = '../../COSMOS_data_tracktor/CVAT/traffic_video_GP020614_190720_0237_0407_90sec/traffic_video_GP020614_190720_0237_0407_90sec_calibrated.mp4'\n",
    "json_name = '../../COSMOS_data_tracktor/CVAT/traffic_video_GP020614_190720_0237_0407_90sec/traffic_video_GP020614_190720_0237_0407_90sec_calibrated.json'\n",
    "output_dir = ops.join('../../COSMOS_data_tracktor/Track_data_cosmos/v_and_p',ops.split(video_name)[1].split('.')[0])\n",
    "\n",
    "outimg_dir, outtxt_dir, frame_count, all_frames = preprocessvideo(video_name, json_name, output_dir)"
   ]
  },
  {
   "cell_type": "markdown",
   "metadata": {},
   "source": [
    "**traffic_video_HIKL1D190821T000900_190920_0152_0322_90sec**"
   ]
  },
  {
   "cell_type": "code",
   "execution_count": 3,
   "metadata": {},
   "outputs": [],
   "source": [
    "outimg_dir = outtxt_dir = frame_count = all_frames = None\n",
    "video_name = '../../COSMOS_data_tracktor/CVAT/traffic_video_HIKL1D190821T000900_190920_0152_0322_90sec/traffic_video_HIKL1D190821T000900_190920_0152_0322_90sec_calied.mp4'\n",
    "json_name = '../../COSMOS_data_tracktor/CVAT/traffic_video_HIKL1D190821T000900_190920_0152_0322_90sec/traffic_video_HIKL1D190821T000900_190920_0152_0322_90sec_calied.json'\n",
    "output_dir = ops.join('../../COSMOS_data_tracktor/Track_data_cosmos/v_and_p',ops.split(video_name)[1].split('.')[0])\n",
    "\n",
    "outimg_dir, outtxt_dir, frame_count, all_frames = preprocessvideo(video_name, json_name, output_dir)"
   ]
  },
  {
   "cell_type": "markdown",
   "metadata": {},
   "source": [
    "**mudd12a2_122200_122330_calibrated**"
   ]
  },
  {
   "cell_type": "code",
   "execution_count": 4,
   "metadata": {},
   "outputs": [],
   "source": [
    "outimg_dir = outtxt_dir = frame_count = all_frames = None\n",
    "video_name = '../../COSMOS_data_tracktor/CVAT/mudd12a2_122200_122330_calibrated/mudd12a2_122200_122330_calibrated.mp4'\n",
    "json_name = '../../COSMOS_data_tracktor/CVAT/mudd12a2_122200_122330_calibrated/mudd12a2_122200_122330_calibrated.json'\n",
    "output_dir = ops.join('../../COSMOS_data_tracktor/Track_data_cosmos/v_and_p',ops.split(video_name)[1].split('.')[0])\n",
    "\n",
    "outimg_dir, outtxt_dir, frame_count, all_frames = preprocessvideo(video_name, json_name, output_dir)"
   ]
  },
  {
   "cell_type": "markdown",
   "metadata": {},
   "source": [
    "**traffic_video_GP010615_190720_0545_0715_90sec**"
   ]
  },
  {
   "cell_type": "code",
   "execution_count": 5,
   "metadata": {},
   "outputs": [],
   "source": [
    "outimg_dir = outtxt_dir = frame_count = all_frames = None\n",
    "video_name = '../../COSMOS_data_tracktor/CVAT/traffic_video_GP010615_190720_0545_0715_90sec/traffic_video_GP010615_190724_0545_0715_90sec_calibrated.mp4'\n",
    "json_name = '../../COSMOS_data_tracktor/CVAT/traffic_video_GP010615_190720_0545_0715_90sec/traffic_video_GP010615_190724_0545_0715_90sec_calibrated.json'\n",
    "output_dir = ops.join('../../COSMOS_data_tracktor/Track_data_cosmos/v_and_p',ops.split(video_name)[1].split('.')[0])\n",
    "\n",
    "outimg_dir, outtxt_dir, frame_count, all_frames = preprocessvideo(video_name, json_name, output_dir)"
   ]
  },
  {
   "cell_type": "markdown",
   "metadata": {},
   "source": [
    "**traffic_video_HIKL1D190821T200329_190916_1715_1845_90sec**"
   ]
  },
  {
   "cell_type": "code",
   "execution_count": 6,
   "metadata": {},
   "outputs": [],
   "source": [
    "outimg_dir = outtxt_dir = frame_count = all_frames = None\n",
    "video_name = '../../COSMOS_data_tracktor/CVAT/traffic_video_HIKL1D190821T200329_190916_1715_1845_90sec/traffic_video_HIKL1D190821T200329_190916_1715_1845_90sec_calied.mp4'\n",
    "json_name = '../../COSMOS_data_tracktor/CVAT/traffic_video_HIKL1D190821T200329_190916_1715_1845_90sec/traffic_video_HIKL1D190821T200329_190916_1715_1845_90sec_calied.json'\n",
    "output_dir = ops.join('../../COSMOS_data_tracktor/Track_data_cosmos/v_and_p',ops.split(video_name)[1].split('.')[0])\n",
    "\n",
    "outimg_dir, outtxt_dir, frame_count, all_frames = preprocessvideo(video_name, json_name, output_dir)"
   ]
  },
  {
   "cell_type": "markdown",
   "metadata": {},
   "source": [
    "**traffic_video_HIKL1D190821T200329_190919_2350_2520_90sec**"
   ]
  },
  {
   "cell_type": "code",
   "execution_count": 7,
   "metadata": {},
   "outputs": [],
   "source": [
    "outimg_dir = outtxt_dir = frame_count = all_frames = None\n",
    "video_name = '../../COSMOS_data_tracktor/CVAT/traffic_video_HIKL1D190821T200329_190919_2350_2520_90sec/traffic_video_HIKL1D190821T200329_190919_2350_2520_90sec_calied.mp4'\n",
    "json_name = '../../COSMOS_data_tracktor/CVAT/traffic_video_HIKL1D190821T200329_190919_2350_2520_90sec/traffic_video_HIKL1D190821T200329_190919_2350_2520_90sec_calied.json'\n",
    "output_dir = ops.join('../../COSMOS_data_tracktor/Track_data_cosmos/v_and_p',ops.split(video_name)[1].split('.')[0])\n",
    "\n",
    "outimg_dir, outtxt_dir, frame_count, all_frames = preprocessvideo(video_name, json_name, output_dir)"
   ]
  },
  {
   "cell_type": "markdown",
   "metadata": {},
   "source": [
    "**traffic_video_GOPR0589_190720_1324_1454_90sec**"
   ]
  },
  {
   "cell_type": "code",
   "execution_count": 2,
   "metadata": {},
   "outputs": [],
   "source": [
    "outimg_dir = outtxt_dir = frame_count = all_frames = None\n",
    "video_name = '../../COSMOS_data_tracktor/CVAT/traffic_video_GOPR0589_190720_1324_1454_90sec/traffic_video_GOPR0589_190720_1324_1454_90sec_calibrated.mp4'\n",
    "json_name = '../../COSMOS_data_tracktor/CVAT/traffic_video_GOPR0589_190720_1324_1454_90sec/traffic_video_GOPR0589_190720_1324_1454_90sec_calibrated.json'\n",
    "output_dir = ops.join('../../COSMOS_data_tracktor/Track_data_cosmos/v_and_p',ops.split(video_name)[1].split('.')[0])\n",
    "\n",
    "outimg_dir, outtxt_dir, frame_count, all_frames = preprocessvideo_2(video_name, json_name, output_dir)"
   ]
  },
  {
   "cell_type": "markdown",
   "metadata": {},
   "source": [
    "**traffic_video_GP010589_190720_0310_0440_90sec**"
   ]
  },
  {
   "cell_type": "code",
   "execution_count": 3,
   "metadata": {},
   "outputs": [],
   "source": [
    "outimg_dir = outtxt_dir = frame_count = all_frames = None\n",
    "video_name = '../../COSMOS_data_tracktor/CVAT/traffic_video_GP010589_190720_0310_0440_90sec/traffic_video_GP010589_190720_0310_0440_90sec_calibrated.mp4'\n",
    "json_name = '../../COSMOS_data_tracktor/CVAT/traffic_video_GP010589_190720_0310_0440_90sec/traffic_video_GP010589_190720_0310_0440_90sec_calibrated.json'\n",
    "output_dir = ops.join('../../COSMOS_data_tracktor/Track_data_cosmos/v_and_p',ops.split(video_name)[1].split('.')[0])\n",
    "\n",
    "outimg_dir, outtxt_dir, frame_count, all_frames = preprocessvideo_3(video_name, json_name, output_dir)"
   ]
  },
  {
   "cell_type": "markdown",
   "metadata": {},
   "source": [
    "**traffic_video_GP020587_190720_0900_1030_90sec**"
   ]
  },
  {
   "cell_type": "code",
   "execution_count": 7,
   "metadata": {},
   "outputs": [],
   "source": [
    "outimg_dir = outtxt_dir = frame_count = all_frames = None\n",
    "video_name = '../../COSMOS_data_tracktor/CVAT/traffic_video_GP020587_190720_0900_1030_90sec/traffic_video_GP020587_190720_0900_1030_90sec_calibrated.mp4'\n",
    "json_name = '../../COSMOS_data_tracktor/CVAT/traffic_video_GP020587_190720_0900_1030_90sec/traffic_video_GP020587_190720_0900_1030_90sec.json'\n",
    "output_dir = ops.join('../../COSMOS_data_tracktor/Track_data_cosmos/v_and_p',ops.split(video_name)[1].split('.')[0])\n",
    "\n",
    "outimg_dir, outtxt_dir, frame_count, all_frames = preprocessvideo_4(video_name, json_name, output_dir)"
   ]
  },
  {
   "cell_type": "markdown",
   "metadata": {},
   "source": [
    "**traffic_video_HIKL1D190911T153514_20190920_0700_0830_90sec**"
   ]
  },
  {
   "cell_type": "code",
   "execution_count": 5,
   "metadata": {},
   "outputs": [],
   "source": [
    "outimg_dir = outtxt_dir = frame_count = all_frames = None\n",
    "video_name = '../../COSMOS_data_tracktor/CVAT/traffic_video_HIKL1D190911T153514_20190920_0700_0830_90sec/traffic_video_HIKL1D190911T153514_20190920_0700_0830_90sec_calibration.mp4'\n",
    "json_name = '../../COSMOS_data_tracktor/CVAT/traffic_video_HIKL1D190911T153514_20190920_0700_0830_90sec/traffic_video_HIKL1D190911T153514_20190920_0700_0830_90sec.json'\n",
    "output_dir = ops.join('../../COSMOS_data_tracktor/Track_data_cosmos/v_and_p',ops.split(video_name)[1].split('.')[0])\n",
    "\n",
    "outimg_dir, outtxt_dir, frame_count, all_frames = preprocessvideo_5(video_name, json_name, output_dir)\n",
    "outimg_dir = outtxt_dir = frame_count = all_frames = None"
   ]
  },
  {
   "cell_type": "markdown",
   "metadata": {},
   "source": [
    "# Show one Ground Truth"
   ]
  },
  {
   "cell_type": "code",
   "execution_count": 29,
   "metadata": {},
   "outputs": [],
   "source": [
    "outimg_dir = '../../COSMOS_data_tracktor/Track_data_cosmos/v_and_p/traffic_video_HIKL1D190911T153514_20190920_0700_0830_90sec_calibration/img1'\n",
    "ann_txt_path = '../../COSMOS_data_tracktor/Track_data_cosmos/v_and_p/traffic_video_HIKL1D190911T153514_20190920_0700_0830_90sec_calibration/gt/gt.txt'"
   ]
  },
  {
   "cell_type": "code",
   "execution_count": 30,
   "metadata": {},
   "outputs": [],
   "source": [
    "img_names = []\n",
    "for img_name in os.listdir(outimg_dir):\n",
    "    img_names.append(img_name)\n",
    "img_names.sort()\n",
    "\n",
    "anns = {'{}'.format(i):[] for i in range(1, len(img_names)+1)}\n",
    "\n",
    "with open(ann_txt_path,'r') as file:\n",
    "    data = file.readlines()\n",
    "    for l in data:\n",
    "        line = l.split(',')\n",
    "        # anns[line[0]].append(line[1:6])\n",
    "        anns[line[0]].append(line[1:10])"
   ]
  },
  {
   "cell_type": "code",
   "execution_count": 31,
   "metadata": {},
   "outputs": [
    {
     "name": "stderr",
     "output_type": "stream",
     "text": [
      "100%|██████████| 901/901 [01:16<00:00, 11.82it/s]\n"
     ]
    }
   ],
   "source": [
    "from tqdm import tqdm\n",
    "output_dir  = '../../COSMOS_data_tracktor/Track_data_cosmos/video_output_V&P'\n",
    "os.makedirs(output_dir, exist_ok=True)\n",
    "fps = 10\n",
    "fourcc = cv2.VideoWriter_fourcc(*'XVID')\n",
    "videoWriter = cv2.VideoWriter(ops.join(output_dir, ops.split(ops.split(outimg_dir)[0])[1]+'.mp4'), fourcc, fps, (1920,1080))\n",
    "for i in tqdm(range(len(img_names))):\n",
    "    img = cv2.imread(ops.join(outimg_dir, img_names[i]))\n",
    "    for box in anns[str(i+1)]:\n",
    "        if box[-1].split()[0] == '2':\n",
    "            img = cv2.rectangle(img, (int(box[1]),int(box[2])), (int(box[1])+int(box[3]),int(box[2])+int(box[4])), (0,0,255), 2)\n",
    "        else:\n",
    "            img = cv2.rectangle(img, (int(box[1]),int(box[2])), (int(box[1])+int(box[3]),int(box[2])+int(box[4])), (0,255,0), 2)\n",
    "        \n",
    "        img = cv2.putText(img, box[0], (int(box[1]),int(box[2])), cv2.FONT_HERSHEY_SIMPLEX , 0.6, (255, 0, 0) , 2, cv2.LINE_AA) \n",
    "    videoWriter.write(img)\n",
    "videoWriter.release()"
   ]
  },
  {
   "cell_type": "code",
   "execution_count": null,
   "metadata": {},
   "outputs": [],
   "source": []
  },
  {
   "cell_type": "code",
   "execution_count": null,
   "metadata": {},
   "outputs": [],
   "source": []
  },
  {
   "cell_type": "code",
   "execution_count": null,
   "metadata": {},
   "outputs": [],
   "source": []
  },
  {
   "cell_type": "code",
   "execution_count": null,
   "metadata": {},
   "outputs": [],
   "source": []
  },
  {
   "cell_type": "code",
   "execution_count": null,
   "metadata": {},
   "outputs": [],
   "source": []
  }
 ],
 "metadata": {
  "kernelspec": {
   "display_name": "Python 3",
   "language": "python",
   "name": "python3"
  },
  "language_info": {
   "codemirror_mode": {
    "name": "ipython",
    "version": 3
   },
   "file_extension": ".py",
   "mimetype": "text/x-python",
   "name": "python",
   "nbconvert_exporter": "python",
   "pygments_lexer": "ipython3",
   "version": "3.6.10"
  }
 },
 "nbformat": 4,
 "nbformat_minor": 2
}
